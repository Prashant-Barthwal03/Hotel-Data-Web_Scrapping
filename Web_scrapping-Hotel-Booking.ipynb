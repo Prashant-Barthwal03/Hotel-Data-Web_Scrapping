{
 "cells": [
  {
   "cell_type": "code",
   "execution_count": 202,
   "id": "a27cdec2-7766-4fa0-a6db-a17c56b8671a",
   "metadata": {},
   "outputs": [],
   "source": [
    "import requests\n",
    "from bs4 import BeautifulSoup\n",
    "import lxml\n",
    "import csv"
   ]
  },
  {
   "cell_type": "code",
   "execution_count": 203,
   "id": "b850a646-3e86-4a0a-ba3c-0b0302b5e37b",
   "metadata": {},
   "outputs": [],
   "source": [
    "url_text='https://www.booking.com/searchresults.en-gb.html?ss=Mussoorie&ssne=Mussoorie&ssne_untouched=Mussoorie&highlighted_hotels=13297927&efdco=1&label=msn-Cw60r87xnOhh0QsvZ50J9A-79852173102493%3Atikwd-79852413567801%3Aloc-90%3Aneo%3Amte%3Alp150034%3Adec%3Aqsperfect+stayz+hotel+mussoorie&sid=656a2485f30918641be623236345921a&aid=851681&lang=en-gb&sb=1&src_elem=sb&src=hotel&dest_id=-2105202&dest_type=city&checkin=2025-02-24&checkout=2025-02-25&group_adults=4&no_rooms=2&group_children=0'"
   ]
  },
  {
   "cell_type": "code",
   "execution_count": 204,
   "id": "44d37a93-0f41-409e-8999-5fb43dcb03e4",
   "metadata": {},
   "outputs": [],
   "source": [
    "header={'User-Agent':'Mozilla/5.0 (Windows NT 10.0; Win64; x64) AppleWebKit/537.36 (KHTML, like Gecko) Chrome/133.0.0.0 Safari/537.36'}"
   ]
  },
  {
   "cell_type": "code",
   "execution_count": 205,
   "id": "04100551-a27a-4fa8-ab7c-9c434cba1dcf",
   "metadata": {},
   "outputs": [],
   "source": [
    "response=requests.get(url_text,headers=header)"
   ]
  },
  {
   "cell_type": "code",
   "execution_count": 206,
   "id": "018c06f4-e19c-4996-b113-18e02e49be28",
   "metadata": {},
   "outputs": [
    {
     "name": "stdout",
     "output_type": "stream",
     "text": [
      "conneted to the website\n"
     ]
    }
   ],
   "source": [
    "if response.status_code==200:\n",
    "    print(\"conneted to the website\")\n",
    "    html_content=response.text\n",
    "else:\n",
    "    print(f\"Connection failed! Status code: {response.status_code}\")"
   ]
  },
  {
   "cell_type": "code",
   "execution_count": 207,
   "id": "a9642524-26be-4418-a65f-6a121ebaef55",
   "metadata": {},
   "outputs": [],
   "source": [
    "Soup=BeautifulSoup(html_content,'lxml')\n",
    "#print(Soup.prettify())\n"
   ]
  },
  {
   "cell_type": "code",
   "execution_count": 208,
   "id": "fea818bb-c9bf-4995-8d32-701263866712",
   "metadata": {},
   "outputs": [],
   "source": [
    "hotel_divs=Soup.find_all('div',role=\"listitem\")"
   ]
  },
  {
   "cell_type": "code",
   "execution_count": 209,
   "id": "c4d03680-e44a-4791-9781-78af96101cbf",
   "metadata": {},
   "outputs": [],
   "source": [
    "\n",
    "# Assuming hotel_divs is already defined from a parsed BeautifulSoup object\n",
    "# hotel_divs = soup.find_all('div', class_=\"hotel_class_here\")\n",
    "\n",
    "with open('hotel_data.csv', 'w', encoding='utf-8', newline='') as file_csv:\n",
    "    writer = csv.writer(file_csv)\n",
    "    \n",
    "    # Correct header row\n",
    "    writer.writerow(['hotel_name', 'locality', 'price', 'rating', 'score', 'review', 'link'])\n",
    "\n",
    "    for hotel in hotel_divs:\n",
    "        hotel_name = hotel.find('div', class_=\"f6431b446c a15b38c233\")\n",
    "        hotel_name = hotel_name.text.strip() if hotel_name else \"NA\"\n",
    "\n",
    "        location = hotel.find('span', class_=\"aee5343fdb def9bc142a\")\n",
    "        location = location.text.strip() if location else \"NA\"\n",
    "\n",
    "        price = hotel.find('span', class_=\"f6431b446c fbfd7c1165 e84eb96b1f\")\n",
    "        price = price.text.strip().replace('₹', '') if price else \"NA\"\n",
    "\n",
    "        rating = hotel.find('div', class_=\"a3b8729ab1 e6208ee469 cb2cbb3ccb\")\n",
    "        rating = rating.text.strip() if rating else \"NA\"\n",
    "\n",
    "        score = hotel.find('div', class_=\"a3b8729ab1 d86cee9b25\")\n",
    "        score = score.text.strip().split(' ')[-1] if score else \"NA\"\n",
    "\n",
    "        review = hotel.find('div', class_=\"abf093bdfe f45d8e4c32 d935416c47\")\n",
    "        review = review.text.strip() if review else \"NA\"\n",
    "\n",
    "        link = hotel.find('a', href=True)\n",
    "        link = link['href'] if link else \"NA\"\n",
    "\n",
    "        writer.writerow([hotel_name, location, price, rating, score, review, link])\n",
    "    \n",
    "    \n",
    "    "
   ]
  },
  {
   "cell_type": "code",
   "execution_count": null,
   "id": "98214386-2879-4257-a1bf-5182f8b6eaf8",
   "metadata": {},
   "outputs": [],
   "source": []
  }
 ],
 "metadata": {
  "kernelspec": {
   "display_name": "Python 3 (ipykernel)",
   "language": "python",
   "name": "python3"
  },
  "language_info": {
   "codemirror_mode": {
    "name": "ipython",
    "version": 3
   },
   "file_extension": ".py",
   "mimetype": "text/x-python",
   "name": "python",
   "nbconvert_exporter": "python",
   "pygments_lexer": "ipython3",
   "version": "3.11.7"
  }
 },
 "nbformat": 4,
 "nbformat_minor": 5
}
